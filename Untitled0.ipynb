{
  "nbformat": 4,
  "nbformat_minor": 0,
  "metadata": {
    "colab": {
      "provenance": [],
      "authorship_tag": "ABX9TyOL6u3jAcCPPgVVlxEvQkUs",
      "include_colab_link": true
    },
    "kernelspec": {
      "name": "python3",
      "display_name": "Python 3"
    },
    "language_info": {
      "name": "python"
    }
  },
  "cells": [
    {
      "cell_type": "markdown",
      "metadata": {
        "id": "view-in-github",
        "colab_type": "text"
      },
      "source": [
        "<a href=\"https://colab.research.google.com/github/Superariel10/hola-mundo-2/blob/main/Untitled0.ipynb\" target=\"_parent\"><img src=\"https://colab.research.google.com/assets/colab-badge.svg\" alt=\"Open In Colab\"/></a>"
      ]
    },
    {
      "cell_type": "markdown",
      "source": [
        "El codigo lo que hace es que los usuarios asignen tareas y que marquen si esta completado o pendiente"
      ],
      "metadata": {
        "id": "vcsFX5MwAtTn"
      }
    },
    {
      "cell_type": "code",
      "source": [
        "usuarios = {}\n",
        "\n",
        "print(\"Hola, vamos a asignar tareas a los usuarios \")\n",
        "\n",
        "def asignarTa(usuario, tarea):\n",
        "    if usuario not in usuarios:\n",
        "        usuarios[usuario] = []\n",
        "    informacionTa = {\"tarea\": tarea, \"estado\": \"pendiente\"}\n",
        "    usuarios[usuario].append(informacionTa)\n",
        "    print(f\"Tarea '{tarea}' asignada a {usuario}.\\n\")\n",
        "\n",
        "def actualizarTa(usuario, tarea, actualizar):\n",
        "    if usuario in usuarios:\n",
        "        tareasUsu = [t[\"tarea\"] for t in usuarios[usuario]]\n",
        "\n",
        "        if tarea not in tareasUsu:\n",
        "            print(f\"La tarea '{tarea}' no existe para el usuario {usuario}\")\n",
        "            return\n",
        "\n",
        "        for t in usuarios[usuario]:\n",
        "            if t[\"tarea\"] == tarea:\n",
        "                t[\"estado\"] = actualizar\n",
        "                print(f\"Tarea '{tarea}' de {usuario} marcada como {actualizar}\\n\")\n",
        "                return\n",
        "    else:\n",
        "        print(f\"El usuario {usuario} no tiene tareas asignadas.\\n\")\n",
        "\n",
        "def listarTa(usuario):\n",
        "    if usuario in usuarios:\n",
        "        print(f\"Tareas de {usuario}:\")\n",
        "        for t in usuarios[usuario]:\n",
        "            print(f\"- {t['tarea']} [Estado: {t['estado']}]\")\n",
        "        print(\"\")\n",
        "    else:\n",
        "        print(f\"El usuario {usuario} no tiene tareas asignadas.\\n\")\n",
        "\n",
        "def tareas():\n",
        "    while True:\n",
        "        print(\"Menú:\")\n",
        "        print(\"1. Asignar tarea a un usuario\")\n",
        "        print(\"2. Actualizar estado de tarea\")\n",
        "        print(\"3. Listar tareas de un usuario\")\n",
        "        print(\"4. Salir\")\n",
        "        opcion = input(\"Selecciona una opción (1-4): \")\n",
        "\n",
        "        if opcion == \"1\":\n",
        "            usuario = input(\"Ingresa el nombre del usuario: \")\n",
        "            tarea = input(\"Ingresa la tarea a asignar: \")\n",
        "            asignarTa(usuario, tarea)\n",
        "\n",
        "        elif opcion == \"2\":\n",
        "            usuario = input(\"Ingresa el nombre del usuario: \")\n",
        "            listarTa(usuario)\n",
        "            if usuario in usuarios:\n",
        "                tarea = input(\"Ingresa la tarea a actualizar: \")\n",
        "                nuevo_estado = input(\"Ingresa el nuevo estado (completada/pendiente): \").lower()\n",
        "                if nuevo_estado in [\"completada\", \"pendiente\"]:\n",
        "                    actualizarTa(usuario, tarea, nuevo_estado)\n",
        "                else:\n",
        "                    print(\"Estado no válido. Debe ser 'completada' o 'pendiente'.\\n\")\n",
        "            else:\n",
        "                print(f\"El usuario {usuario} no tiene tareas asignadas.\\n\")\n",
        "\n",
        "        elif opcion == \"3\":\n",
        "            usuario = input(\"Ingresa el nombre del usuario para listar sus tareas: \")\n",
        "            listarTa(usuario)\n",
        "\n",
        "        elif opcion == \"4\":\n",
        "            print(\"Saliendo del sistema...\")\n",
        "            break\n",
        "\n",
        "        else:\n",
        "            print(\"Opción no válida. Intenta de nuevo.\\n\")\n",
        "\n",
        "\n",
        "tareas()"
      ],
      "metadata": {
        "colab": {
          "base_uri": "https://localhost:8080/"
        },
        "id": "kLFrqCSkArL4",
        "outputId": "b20a7286-6b34-4ba4-f25c-9016ae4c89d5"
      },
      "execution_count": 6,
      "outputs": [
        {
          "output_type": "stream",
          "name": "stdout",
          "text": [
            "Hola, vamos a asignar tareas a los usuarios \n",
            "Menú:\n",
            "1. Asignar tarea a un usuario\n",
            "2. Actualizar estado de tarea\n",
            "3. Listar tareas de un usuario\n",
            "4. Salir\n",
            "Selecciona una opción (1-4): 4\n",
            "Saliendo del sistema...\n"
          ]
        }
      ]
    },
    {
      "cell_type": "markdown",
      "source": [
        "El codigo lo que hace es dar el resultado del IMC de una persona"
      ],
      "metadata": {
        "id": "ao0eIokDEX1T"
      }
    },
    {
      "cell_type": "code",
      "source": [
        "def determinarResultadosIMC(numero):\n",
        "    valor=numero\n",
        "    if valor < 0 :\n",
        "        return \"IMC fuera de rango\"\n",
        "    elif valor < 16:\n",
        "        return \"Delgadez severa\"\n",
        "    elif valor < 17:\n",
        "        return \"Delgadez moderada\"\n",
        "    elif valor < 18.5:\n",
        "        return \"Delgadez leve\"\n",
        "    elif valor < 25:\n",
        "        return \"Peso normal\"\n",
        "    elif valor < 30:\n",
        "        return \"Sobrepeso\"\n",
        "    elif valor < 35:\n",
        "        return \"Obesidad Grado 1\"\n",
        "    elif valor < 40:\n",
        "        return \"Obesidad Grado 2\"\n",
        "    else:\n",
        "        return \"Obesidad Grado 3\""
      ],
      "metadata": {
        "id": "HWA5e08dEmrr"
      },
      "execution_count": 10,
      "outputs": []
    }
  ]
}